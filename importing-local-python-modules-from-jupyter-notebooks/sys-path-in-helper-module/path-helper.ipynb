{
 "cells": [
  {
   "cell_type": "markdown",
   "metadata": {},
   "source": [
    "# Manipulating `sys.path` in a Helper Module in the Current Directory\n",
    "\n",
    "Instead of manipulating the path in each notebook (like shown in [this notebook](../sys-path-in-notebook/path-notebook.ipynb)), we can create a helper module in the current directory which does the path manipulations.\n",
    "For the current notebook, there is a helper module in the same directory: [mymodule.py](mymodule.py).\n",
    "This helper module does some obscure manipulations that make it look like it's the module from [../module-subdirectory/mymodule.py](../module-subdirectory/mymodule.py)."
   ]
  },
  {
   "cell_type": "code",
   "execution_count": 1,
   "metadata": {
    "execution": {
     "iopub.execute_input": "2025-08-16T15:50:54.855758Z",
     "iopub.status.busy": "2025-08-16T15:50:54.855509Z",
     "iopub.status.idle": "2025-08-16T15:50:54.859640Z",
     "shell.execute_reply": "2025-08-16T15:50:54.859235Z"
    }
   },
   "outputs": [],
   "source": [
    "import mymodule"
   ]
  },
  {
   "cell_type": "code",
   "execution_count": 2,
   "metadata": {
    "execution": {
     "iopub.execute_input": "2025-08-16T15:50:54.861187Z",
     "iopub.status.busy": "2025-08-16T15:50:54.861024Z",
     "iopub.status.idle": "2025-08-16T15:50:54.863600Z",
     "shell.execute_reply": "2025-08-16T15:50:54.863114Z"
    }
   },
   "outputs": [
    {
     "name": "stdout",
     "output_type": "stream",
     "text": [
      "Hello, world!\n"
     ]
    }
   ],
   "source": [
    "mymodule.hello()"
   ]
  },
  {
   "cell_type": "markdown",
   "metadata": {},
   "source": [
    "Admittedly, the code looks quite scary:"
   ]
  },
  {
   "cell_type": "code",
   "execution_count": 3,
   "metadata": {
    "execution": {
     "iopub.execute_input": "2025-08-16T15:50:54.865146Z",
     "iopub.status.busy": "2025-08-16T15:50:54.864972Z",
     "iopub.status.idle": "2025-08-16T15:50:55.002023Z",
     "shell.execute_reply": "2025-08-16T15:50:55.001430Z"
    }
   },
   "outputs": [
    {
     "name": "stdout",
     "output_type": "stream",
     "text": [
      "# Import a module with the same name from a different directory.\r\n",
      "\r\n",
      "import importlib\r\n",
      "import os\r\n",
      "import sys\r\n",
      "\r\n",
      "sys.path.insert(0, os.path.abspath('../module-subdirectory'))\r\n",
      "\r\n",
      "if not hasattr(importlib, 'reload'):\r\n",
      "    importlib.reload = reload  # for Python 2 compatibility\r\n",
      "\r\n",
      "# Temporarily hijack __file__ to avoid adding names at module scope;\r\n",
      "# __file__ will be overwritten again during the reload() call.\r\n",
      "__file__ = {'sys': sys, 'importlib': importlib}\r\n",
      "\r\n",
      "del importlib\r\n",
      "del os\r\n",
      "del sys\r\n",
      "\r\n",
      "__file__['importlib'].reload(__file__['sys'].modules[__name__])\r\n"
     ]
    }
   ],
   "source": [
    "%cat mymodule.py"
   ]
  }
 ],
 "metadata": {
  "kernelspec": {
   "display_name": "Python 3",
   "language": "python",
   "name": "python3"
  },
  "language_info": {
   "codemirror_mode": {
    "name": "ipython",
    "version": 3
   },
   "file_extension": ".py",
   "mimetype": "text/x-python",
   "name": "python",
   "nbconvert_exporter": "python",
   "pygments_lexer": "ipython3",
   "version": "3.13.6"
  }
 },
 "nbformat": 4,
 "nbformat_minor": 4
}
