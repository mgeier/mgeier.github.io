{
 "cells": [
  {
   "cell_type": "markdown",
   "metadata": {},
   "source": [
    "# Use a Symbolic Link\n",
    "\n",
    "The file [mymodule.py](mymodule.py) in the current directory is a symbolic link to [../module-subdirectory/mymodule.py](../module-subdirectory/mymodule.py).\n",
    "\n",
    "This may not work on all operating systems!"
   ]
  },
  {
   "cell_type": "code",
   "execution_count": 1,
   "metadata": {
    "execution": {
     "iopub.execute_input": "2024-12-05T19:21:33.596224Z",
     "iopub.status.busy": "2024-12-05T19:21:33.595774Z",
     "iopub.status.idle": "2024-12-05T19:21:33.599333Z",
     "shell.execute_reply": "2024-12-05T19:21:33.598903Z"
    }
   },
   "outputs": [],
   "source": [
    "import mymodule"
   ]
  },
  {
   "cell_type": "code",
   "execution_count": 2,
   "metadata": {
    "execution": {
     "iopub.execute_input": "2024-12-05T19:21:33.601153Z",
     "iopub.status.busy": "2024-12-05T19:21:33.600718Z",
     "iopub.status.idle": "2024-12-05T19:21:33.604034Z",
     "shell.execute_reply": "2024-12-05T19:21:33.603480Z"
    }
   },
   "outputs": [
    {
     "name": "stdout",
     "output_type": "stream",
     "text": [
      "Hello, world!\n"
     ]
    }
   ],
   "source": [
    "mymodule.hello()"
   ]
  }
 ],
 "metadata": {
  "kernelspec": {
   "display_name": "Python 3",
   "language": "python",
   "name": "python3"
  },
  "language_info": {
   "codemirror_mode": {
    "name": "ipython",
    "version": 3
   },
   "file_extension": ".py",
   "mimetype": "text/x-python",
   "name": "python",
   "nbconvert_exporter": "python",
   "pygments_lexer": "ipython3",
   "version": "3.12.7"
  }
 },
 "nbformat": 4,
 "nbformat_minor": 4
}
