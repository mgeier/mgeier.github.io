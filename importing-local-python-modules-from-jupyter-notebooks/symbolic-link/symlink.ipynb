{
 "cells": [
  {
   "cell_type": "markdown",
   "metadata": {},
   "source": [
    "# Use a Symbolic Link\n",
    "\n",
    "The file [mymodule.py](mymodule.py) in the current directory is a symbolic link to [../module-subdirectory/mymodule.py](../module-subdirectory/mymodule.py).\n",
    "\n",
    "This may not work on all operating systems!"
   ]
  },
  {
   "cell_type": "code",
   "execution_count": 1,
   "metadata": {
    "execution": {
     "iopub.execute_input": "2025-08-23T07:48:22.765307Z",
     "iopub.status.busy": "2025-08-23T07:48:22.765120Z",
     "iopub.status.idle": "2025-08-23T07:48:22.773520Z",
     "shell.execute_reply": "2025-08-23T07:48:22.773064Z"
    }
   },
   "outputs": [],
   "source": [
    "import mymodule"
   ]
  },
  {
   "cell_type": "code",
   "execution_count": 2,
   "metadata": {
    "execution": {
     "iopub.execute_input": "2025-08-23T07:48:22.775129Z",
     "iopub.status.busy": "2025-08-23T07:48:22.774965Z",
     "iopub.status.idle": "2025-08-23T07:48:22.777684Z",
     "shell.execute_reply": "2025-08-23T07:48:22.777162Z"
    }
   },
   "outputs": [
    {
     "name": "stdout",
     "output_type": "stream",
     "text": [
      "Hello, world!\n"
     ]
    }
   ],
   "source": [
    "mymodule.hello()"
   ]
  }
 ],
 "metadata": {
  "kernelspec": {
   "display_name": "Python 3",
   "language": "python",
   "name": "python3"
  },
  "language_info": {
   "codemirror_mode": {
    "name": "ipython",
    "version": 3
   },
   "file_extension": ".py",
   "mimetype": "text/x-python",
   "name": "python",
   "nbconvert_exporter": "python",
   "pygments_lexer": "ipython3",
   "version": "3.13.7"
  }
 },
 "nbformat": 4,
 "nbformat_minor": 4
}
