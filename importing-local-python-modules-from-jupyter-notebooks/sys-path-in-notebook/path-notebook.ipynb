{
 "cells": [
  {
   "cell_type": "markdown",
   "metadata": {},
   "source": [
    "# Manipulating `sys.path` in the Notebook\n",
    "\n",
    "You can add your module's sub-directory to Pythons path like this:"
   ]
  },
  {
   "cell_type": "code",
   "execution_count": 1,
   "metadata": {
    "execution": {
     "iopub.execute_input": "2025-05-01T07:37:00.860462Z",
     "iopub.status.busy": "2025-05-01T07:37:00.860280Z",
     "iopub.status.idle": "2025-05-01T07:37:00.863598Z",
     "shell.execute_reply": "2025-05-01T07:37:00.863178Z"
    }
   },
   "outputs": [],
   "source": [
    "import os\n",
    "import sys\n",
    "sys.path.insert(0, os.path.abspath('../module-subdirectory'))"
   ]
  },
  {
   "cell_type": "markdown",
   "metadata": {},
   "source": [
    "... then you can simply import it:"
   ]
  },
  {
   "cell_type": "code",
   "execution_count": 2,
   "metadata": {
    "execution": {
     "iopub.execute_input": "2025-05-01T07:37:00.865394Z",
     "iopub.status.busy": "2025-05-01T07:37:00.865066Z",
     "iopub.status.idle": "2025-05-01T07:37:00.868023Z",
     "shell.execute_reply": "2025-05-01T07:37:00.867586Z"
    }
   },
   "outputs": [],
   "source": [
    "import mymodule"
   ]
  },
  {
   "cell_type": "code",
   "execution_count": 3,
   "metadata": {
    "execution": {
     "iopub.execute_input": "2025-05-01T07:37:00.869736Z",
     "iopub.status.busy": "2025-05-01T07:37:00.869395Z",
     "iopub.status.idle": "2025-05-01T07:37:00.872136Z",
     "shell.execute_reply": "2025-05-01T07:37:00.871649Z"
    }
   },
   "outputs": [
    {
     "name": "stdout",
     "output_type": "stream",
     "text": [
      "Hello, world!\n"
     ]
    }
   ],
   "source": [
    "mymodule.hello()"
   ]
  },
  {
   "cell_type": "markdown",
   "metadata": {},
   "source": [
    "Of course it is quite ugly to show this path manipulation in each notebook.\n",
    "You can also move this to a helper module, see [this notebook](../sys-path-in-helper-module/path-helper.ipynb)."
   ]
  }
 ],
 "metadata": {
  "kernelspec": {
   "display_name": "Python 3",
   "language": "python",
   "name": "python3"
  },
  "language_info": {
   "codemirror_mode": {
    "name": "ipython",
    "version": 3
   },
   "file_extension": ".py",
   "mimetype": "text/x-python",
   "name": "python",
   "nbconvert_exporter": "python",
   "pygments_lexer": "ipython3",
   "version": "3.13.3"
  }
 },
 "nbformat": 4,
 "nbformat_minor": 4
}
