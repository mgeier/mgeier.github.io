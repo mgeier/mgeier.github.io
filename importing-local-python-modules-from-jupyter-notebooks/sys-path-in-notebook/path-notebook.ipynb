{
 "cells": [
  {
   "cell_type": "markdown",
   "metadata": {},
   "source": [
    "# Manipulating `sys.path` in the Notebook\n",
    "\n",
    "You can add your module's sub-directory to Pythons path like this:"
   ]
  },
  {
   "cell_type": "code",
   "execution_count": 1,
   "metadata": {
    "execution": {
     "iopub.execute_input": "2024-12-06T20:32:26.892427Z",
     "iopub.status.busy": "2024-12-06T20:32:26.892224Z",
     "iopub.status.idle": "2024-12-06T20:32:26.895804Z",
     "shell.execute_reply": "2024-12-06T20:32:26.895332Z"
    }
   },
   "outputs": [],
   "source": [
    "import os\n",
    "import sys\n",
    "sys.path.insert(0, os.path.abspath('../module-subdirectory'))"
   ]
  },
  {
   "cell_type": "markdown",
   "metadata": {},
   "source": [
    "... then you can simply import it:"
   ]
  },
  {
   "cell_type": "code",
   "execution_count": 2,
   "metadata": {
    "execution": {
     "iopub.execute_input": "2024-12-06T20:32:26.897614Z",
     "iopub.status.busy": "2024-12-06T20:32:26.897411Z",
     "iopub.status.idle": "2024-12-06T20:32:26.900682Z",
     "shell.execute_reply": "2024-12-06T20:32:26.900225Z"
    }
   },
   "outputs": [],
   "source": [
    "import mymodule"
   ]
  },
  {
   "cell_type": "code",
   "execution_count": 3,
   "metadata": {
    "execution": {
     "iopub.execute_input": "2024-12-06T20:32:26.902570Z",
     "iopub.status.busy": "2024-12-06T20:32:26.902215Z",
     "iopub.status.idle": "2024-12-06T20:32:26.905442Z",
     "shell.execute_reply": "2024-12-06T20:32:26.904866Z"
    }
   },
   "outputs": [
    {
     "name": "stdout",
     "output_type": "stream",
     "text": [
      "Hello, world!\n"
     ]
    }
   ],
   "source": [
    "mymodule.hello()"
   ]
  },
  {
   "cell_type": "markdown",
   "metadata": {},
   "source": [
    "Of course it is quite ugly to show this path manipulation in each notebook.\n",
    "You can also move this to a helper module, see [this notebook](../sys-path-in-helper-module/path-helper.ipynb)."
   ]
  }
 ],
 "metadata": {
  "kernelspec": {
   "display_name": "Python 3",
   "language": "python",
   "name": "python3"
  },
  "language_info": {
   "codemirror_mode": {
    "name": "ipython",
    "version": 3
   },
   "file_extension": ".py",
   "mimetype": "text/x-python",
   "name": "python",
   "nbconvert_exporter": "python",
   "pygments_lexer": "ipython3",
   "version": "3.12.7"
  }
 },
 "nbformat": 4,
 "nbformat_minor": 4
}
